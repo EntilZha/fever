{
 "cells": [
  {
   "cell_type": "code",
   "execution_count": 15,
   "metadata": {},
   "outputs": [],
   "source": [
    "import spacy\n",
    "from pedroai.io import read_jsonlines\n",
    "from serene.wiki_db import WikiDatabase"
   ]
  },
  {
   "cell_type": "code",
   "execution_count": 6,
   "metadata": {},
   "outputs": [],
   "source": [
    "train = read_jsonlines('data/train.jsonl')"
   ]
  },
  {
   "cell_type": "code",
   "execution_count": 16,
   "metadata": {},
   "outputs": [
    {
     "output_type": "execute_result",
     "data": {
      "text/plain": "{'id': 75397,\n 'verifiable': 'VERIFIABLE',\n 'label': 'SUPPORTS',\n 'claim': 'Nikolaj Coster-Waldau worked with the Fox Broadcasting Company.',\n 'evidence': [[[92206, 104971, 'Nikolaj_Coster-Waldau', 7],\n   [92206, 104971, 'Fox_Broadcasting_Company', 0]]]}"
     },
     "metadata": {},
     "execution_count": 16
    }
   ],
   "source": [
    "train[0]"
   ]
  },
  {
   "cell_type": "code",
   "execution_count": 17,
   "metadata": {},
   "outputs": [],
   "source": [
    "db = WikiDatabase()"
   ]
  },
  {
   "cell_type": "code",
   "execution_count": 24,
   "metadata": {
    "tags": []
   },
   "outputs": [
    {
     "output_type": "stream",
     "name": "stdout",
     "text": "He then played Detective John Amsterdam in the short-lived Fox television series New Amsterdam -LRB- 2008 -RRB- , as well as appearing as Frank Pike in the 2009 Fox television film Virtuality , originally intended as a pilot .\nThe Fox Broadcasting Company -LRB- often shortened to Fox and stylized as FOX -RRB- is an American English language commercial broadcast television network that is owned by the Fox Entertainment Group subsidiary of 21st Century Fox .\n"
    }
   ],
   "source": [
    "example = train[0]\n",
    "for ev_set in example['evidence']:\n",
    "    for _, _, page, sent_id in ev_set:\n",
    "        print(db.get_page_sentence(page.replace('_', ' '), sent_id))"
   ]
  },
  {
   "cell_type": "code",
   "execution_count": 21,
   "metadata": {},
   "outputs": [
    {
     "output_type": "execute_result",
     "data": {
      "text/plain": "0"
     },
     "metadata": {},
     "execution_count": 21
    }
   ],
   "source": [
    "sent_id"
   ]
  },
  {
   "cell_type": "code",
   "execution_count": 23,
   "metadata": {},
   "outputs": [
    {
     "output_type": "execute_result",
     "data": {
      "text/plain": "id: \"Fox_Broadcasting_Company\"\ntext: \"The Fox Broadcasting Company -LRB- often shortened to Fox and stylized as FOX -RRB- is an American English language commercial broadcast television network that is owned by the Fox Entertainment Group subsidiary of 21st Century Fox . The network is headquartered at the 20th Century Fox studio lot on Pico Boulevard in the Century City section of Los Angeles , with additional major offices and production facilities at the Fox Television Center in nearby West Los Angeles and the Fox Broadcasting Center in the Yorkville neighborhood of Manhattan , New York City . It is the third largest major television network in the world based on total revenues , assets , and international coverage .   Launched on October 9 , 1986 as a competitor to the Big Three television networks -LRB- ABC , NBC and CBS -RRB- , Fox went on to become the most successful attempt at a fourth television network . It was the highest-rated broadcast network in the 18 -- 49 demographic from 2004 to 2012 , and earned the position as the most-watched American television network in total viewership during the 2007 -- 08 season .   Fox and its affiliated companies operate many entertainment channels in international markets , although these do not necessarily air the same programming as the U.S. network . Most viewers in Canada have access to at least one U.S.-based Fox affiliate , either over-the-air or through a pay television provider , although Fox \\'s National Football League telecasts and most of its prime time programming are subject to simultaneous substitution regulations for cable and satellite providers imposed by the Canadian Radio-television and Telecommunications Commission -LRB- CRTC -RRB- to protect rights held by domestically based networks .   The network is named after sister company 20th Century Fox , and indirectly for producer William Fox , who founded one of the movie studio \\'s predecessors , Fox Film . Fox is a member of the North American Broadcasters Association and the National Association of Broadcasters . \"\ntitle: \"Fox Broadcasting Company\"\nsentences {\n  key: 0\n  value {\n    text: \"The Fox Broadcasting Company -LRB- often shortened to Fox and stylized as FOX -RRB- is an American English language commercial broadcast television network that is owned by the Fox Entertainment Group subsidiary of 21st Century Fox .\"\n    entities {\n      mention: \"English\"\n      entity: \"English language\"\n    }\n    entities {\n      mention: \"Fox Entertainment Group\"\n      entity: \"Fox Entertainment Group\"\n    }\n    entities {\n      mention: \"21st Century Fox\"\n      entity: \"21st Century Fox\"\n    }\n    entities {\n      mention: \"American\"\n      entity: \"United States\"\n    }\n    entities {\n      mention: \"English language\"\n      entity: \"English language\"\n    }\n    entities {\n      mention: \"commercial\"\n      entity: \"commercial broadcasting\"\n    }\n    entities {\n      mention: \"broadcast\"\n      entity: \"terrestrial television\"\n    }\n    entities {\n      mention: \"television network\"\n      entity: \"television network\"\n    }\n  }\n}\nsentences {\n  key: 1\n  value {\n    text: \"The network is headquartered at the 20th Century Fox studio lot on Pico Boulevard in the Century City section of Los Angeles , with additional major offices and production facilities at the Fox Television Center in nearby West Los Angeles and the Fox Broadcasting Center in the Yorkville neighborhood of Manhattan , New York City .\"\n    entities {\n      mention: \"Pico Boulevard\"\n      entity: \"Pico Boulevard\"\n    }\n    entities {\n      mention: \"Century City\"\n      entity: \"Century City, Los Angeles\"\n    }\n    entities {\n      mention: \"Los Angeles\"\n      entity: \"Los Angeles\"\n    }\n    entities {\n      mention: \"Fox Television Center\"\n      entity: \"Fox Television Center\"\n    }\n    entities {\n      mention: \"Fox Broadcasting Center\"\n      entity: \"WNYW#DuMont origins\"\n    }\n    entities {\n      mention: \"20th Century Fox\"\n      entity: \"20th Century Fox\"\n    }\n  }\n}\nsentences {\n  key: 2\n  value {\n    text: \"It is the third largest major television network in the world based on total revenues , assets , and international coverage .\"\n    entities {\n      mention: \"television network\"\n      entity: \"television network\"\n    }\n  }\n}\nsentences {\n  key: 5\n  value {\n    text: \"Launched on October 9 , 1986 as a competitor to the Big Three television networks -LRB- ABC , NBC and CBS -RRB- , Fox went on to become the most successful attempt at a fourth television network .\"\n    entities {\n      mention: \"television network\"\n      entity: \"television network\"\n    }\n    entities {\n      mention: \"Big Three television networks\"\n      entity: \"Big Three television networks\"\n    }\n    entities {\n      mention: \"ABC\"\n      entity: \"American Broadcasting Company\"\n    }\n    entities {\n      mention: \"NBC\"\n      entity: \"NBC\"\n    }\n    entities {\n      mention: \"CBS\"\n      entity: \"CBS\"\n    }\n    entities {\n      mention: \"fourth television network\"\n      entity: \"fourth television network\"\n    }\n  }\n}\nsentences {\n  key: 6\n  value {\n    text: \"It was the highest-rated broadcast network in the 18 -- 49 demographic from 2004 to 2012 , and earned the position as the most-watched American television network in total viewership during the 2007 -- 08 season .\"\n    entities {\n      mention: \"American\"\n      entity: \"United States\"\n    }\n    entities {\n      mention: \"broadcast\"\n      entity: \"terrestrial television\"\n    }\n    entities {\n      mention: \"television network\"\n      entity: \"television network\"\n    }\n    entities {\n      mention: \"rated\"\n      entity: \"Nielsen ratings\"\n    }\n  }\n}\nsentences {\n  key: 9\n  value {\n    text: \"Fox and its affiliated companies operate many entertainment channels in international markets , although these do not necessarily air the same programming as the U.S. network .\"\n  }\n}\nsentences {\n  key: 10\n  value {\n    text: \"Most viewers in Canada have access to at least one U.S.-based Fox affiliate , either over-the-air or through a pay television provider , although Fox \\'s National Football League telecasts and most of its prime time programming are subject to simultaneous substitution regulations for cable and satellite providers imposed by the Canadian Radio-television and Telecommunications Commission -LRB- CRTC -RRB- to protect rights held by domestically based networks .\"\n    entities {\n      mention: \"National Football League telecasts\"\n      entity: \"Fox NFL\"\n    }\n    entities {\n      mention: \"prime time\"\n      entity: \"prime time\"\n    }\n    entities {\n      mention: \"simultaneous substitution\"\n      entity: \"simultaneous substitution\"\n    }\n    entities {\n      mention: \"cable\"\n      entity: \"cable television\"\n    }\n    entities {\n      mention: \"satellite\"\n      entity: \"direct broadcast satellite\"\n    }\n    entities {\n      mention: \"Canadian Radio-television and Telecommunications Commission\"\n      entity: \"Canadian Radio-television and Telecommunications Commission\"\n    }\n  }\n}\nsentences {\n  key: 13\n  value {\n    text: \"The network is named after sister company 20th Century Fox , and indirectly for producer William Fox , who founded one of the movie studio \\'s predecessors , Fox Film .\"\n    entities {\n      mention: \"20th Century Fox\"\n      entity: \"20th Century Fox\"\n    }\n    entities {\n      mention: \"William Fox\"\n      entity: \"William Fox (producer)\"\n    }\n    entities {\n      mention: \"Fox Film\"\n      entity: \"20th Century Fox#Fox Film\"\n    }\n  }\n}\nsentences {\n  key: 14\n  value {\n    text: \"Fox is a member of the North American Broadcasters Association and the National Association of Broadcasters .\"\n    entities {\n      mention: \"American\"\n      entity: \"United States\"\n    }\n    entities {\n      mention: \"North American Broadcasters Association\"\n      entity: \"North American Broadcasters Association\"\n    }\n    entities {\n      mention: \"National Association of Broadcasters\"\n      entity: \"National Association of Broadcasters\"\n    }\n  }\n}"
     },
     "metadata": {},
     "execution_count": 23
    }
   ],
   "source": [
    "db.get_page('Fox Broadcasting Company')"
   ]
  },
  {
   "cell_type": "code",
   "execution_count": null,
   "metadata": {},
   "outputs": [],
   "source": []
  }
 ],
 "metadata": {
  "language_info": {
   "codemirror_mode": {
    "name": "ipython",
    "version": 3
   },
   "file_extension": ".py",
   "mimetype": "text/x-python",
   "name": "python",
   "nbconvert_exporter": "python",
   "pygments_lexer": "ipython3",
   "version": "3.8.3-final"
  },
  "orig_nbformat": 2,
  "kernelspec": {
   "name": "python_defaultSpec_1594828535501",
   "display_name": "Python 3.8.3 64-bit"
  }
 },
 "nbformat": 4,
 "nbformat_minor": 2
}